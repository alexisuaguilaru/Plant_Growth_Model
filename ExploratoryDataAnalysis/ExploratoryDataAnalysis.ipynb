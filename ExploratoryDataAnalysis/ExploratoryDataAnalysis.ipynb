{
 "cells": [
  {
   "cell_type": "markdown",
   "id": "ffa4de67",
   "metadata": {},
   "source": [
    "# Introduction"
   ]
  },
  {
   "cell_type": "markdown",
   "id": "d8b137f6",
   "metadata": {},
   "source": [
    "The following Exploratory Data Analysis (EDA) is intended to provide insight into the distributions and possible patterns in the data."
   ]
  },
  {
   "cell_type": "markdown",
   "id": "9cf03ab0",
   "metadata": {},
   "source": [
    "# Import Libraries and Other Code"
   ]
  },
  {
   "cell_type": "code",
   "execution_count": 65,
   "id": "9aba8c7b",
   "metadata": {},
   "outputs": [],
   "source": [
    "# Relevant Libraries\n",
    "\n",
    "import pandas as pd\n",
    "import numpy as np\n",
    "\n",
    "import seaborn as sns\n",
    "import matplotlib.pyplot as plt\n",
    "\n",
    "import re"
   ]
  },
  {
   "cell_type": "markdown",
   "id": "eb17e5c7",
   "metadata": {},
   "source": [
    "# Load Dataset and First Exploration"
   ]
  },
  {
   "cell_type": "code",
   "execution_count": 16,
   "id": "35622787",
   "metadata": {},
   "outputs": [
    {
     "name": "stdout",
     "output_type": "stream",
     "text": [
      "Dataset shape is: (193, 7)\n"
     ]
    },
    {
     "data": {
      "text/html": [
       "<div>\n",
       "<style scoped>\n",
       "    .dataframe tbody tr th:only-of-type {\n",
       "        vertical-align: middle;\n",
       "    }\n",
       "\n",
       "    .dataframe tbody tr th {\n",
       "        vertical-align: top;\n",
       "    }\n",
       "\n",
       "    .dataframe thead th {\n",
       "        text-align: right;\n",
       "    }\n",
       "</style>\n",
       "<table border=\"1\" class=\"dataframe\">\n",
       "  <thead>\n",
       "    <tr style=\"text-align: right;\">\n",
       "      <th></th>\n",
       "      <th>Soil_Type</th>\n",
       "      <th>Sunlight_Hours</th>\n",
       "      <th>Water_Frequency</th>\n",
       "      <th>Fertilizer_Type</th>\n",
       "      <th>Temperature</th>\n",
       "      <th>Humidity</th>\n",
       "      <th>Growth_Milestone</th>\n",
       "    </tr>\n",
       "  </thead>\n",
       "  <tbody>\n",
       "    <tr>\n",
       "      <th>0</th>\n",
       "      <td>loam</td>\n",
       "      <td>5.192294</td>\n",
       "      <td>bi-weekly</td>\n",
       "      <td>chemical</td>\n",
       "      <td>31.719602</td>\n",
       "      <td>61.591861</td>\n",
       "      <td>0</td>\n",
       "    </tr>\n",
       "    <tr>\n",
       "      <th>1</th>\n",
       "      <td>sandy</td>\n",
       "      <td>4.033133</td>\n",
       "      <td>weekly</td>\n",
       "      <td>organic</td>\n",
       "      <td>28.919484</td>\n",
       "      <td>52.422276</td>\n",
       "      <td>1</td>\n",
       "    </tr>\n",
       "    <tr>\n",
       "      <th>2</th>\n",
       "      <td>loam</td>\n",
       "      <td>8.892769</td>\n",
       "      <td>bi-weekly</td>\n",
       "      <td>none</td>\n",
       "      <td>23.179059</td>\n",
       "      <td>44.660539</td>\n",
       "      <td>0</td>\n",
       "    </tr>\n",
       "    <tr>\n",
       "      <th>3</th>\n",
       "      <td>loam</td>\n",
       "      <td>8.241144</td>\n",
       "      <td>bi-weekly</td>\n",
       "      <td>none</td>\n",
       "      <td>18.465886</td>\n",
       "      <td>46.433227</td>\n",
       "      <td>0</td>\n",
       "    </tr>\n",
       "    <tr>\n",
       "      <th>4</th>\n",
       "      <td>sandy</td>\n",
       "      <td>8.374043</td>\n",
       "      <td>bi-weekly</td>\n",
       "      <td>organic</td>\n",
       "      <td>18.128741</td>\n",
       "      <td>63.625923</td>\n",
       "      <td>0</td>\n",
       "    </tr>\n",
       "  </tbody>\n",
       "</table>\n",
       "</div>"
      ],
      "text/plain": [
       "  Soil_Type  Sunlight_Hours Water_Frequency Fertilizer_Type  Temperature  \\\n",
       "0      loam        5.192294       bi-weekly        chemical    31.719602   \n",
       "1     sandy        4.033133          weekly         organic    28.919484   \n",
       "2      loam        8.892769       bi-weekly            none    23.179059   \n",
       "3      loam        8.241144       bi-weekly            none    18.465886   \n",
       "4     sandy        8.374043       bi-weekly         organic    18.128741   \n",
       "\n",
       "    Humidity  Growth_Milestone  \n",
       "0  61.591861                 0  \n",
       "1  52.422276                 1  \n",
       "2  44.660539                 0  \n",
       "3  46.433227                 0  \n",
       "4  63.625923                 0  "
      ]
     },
     "execution_count": 16,
     "metadata": {},
     "output_type": "execute_result"
    }
   ],
   "source": [
    "# Loading dataset\n",
    "\n",
    "PlantGrowth_Dataset = pd.read_csv(\"plant_growth_data.csv\")\n",
    "\n",
    "print(f'Dataset shape is: {PlantGrowth_Dataset.shape}')\n",
    "\n",
    "# Example of records\n",
    "PlantGrowth_Dataset.head(5)"
   ]
  },
  {
   "cell_type": "code",
   "execution_count": 8,
   "id": "249ecc88",
   "metadata": {},
   "outputs": [
    {
     "data": {
      "text/plain": [
       "Soil_Type            object\n",
       "Sunlight_Hours      float64\n",
       "Water_Frequency      object\n",
       "Fertilizer_Type      object\n",
       "Temperature         float64\n",
       "Humidity            float64\n",
       "Growth_Milestone      int64\n",
       "dtype: object"
      ]
     },
     "execution_count": 8,
     "metadata": {},
     "output_type": "execute_result"
    }
   ],
   "source": [
    "# Data types of variables\n",
    "\n",
    "PlantGrowth_Dataset.dtypes"
   ]
  },
  {
   "cell_type": "code",
   "execution_count": 10,
   "id": "e90fa361",
   "metadata": {},
   "outputs": [],
   "source": [
    "# Splitting variables into numerical and categorical\n",
    "\n",
    "labels_variables = PlantGrowth_Dataset.columns\n",
    "\n",
    "Features = labels_variables[:-1]\n",
    "Target = labels_variables[-1]\n",
    "\n",
    "NumericalFeatures , CategoricalFeatures = [] , []\n",
    "for feature in Features:\n",
    "    if PlantGrowth_Dataset[feature].dtype == 'object':\n",
    "        CategoricalFeatures.append(feature)\n",
    "    else:\n",
    "        NumericalFeatures.append(feature)"
   ]
  },
  {
   "cell_type": "code",
   "execution_count": null,
   "id": "873fadd5",
   "metadata": {},
   "outputs": [
    {
     "data": {
      "text/html": [
       "<div>\n",
       "<style scoped>\n",
       "    .dataframe tbody tr th:only-of-type {\n",
       "        vertical-align: middle;\n",
       "    }\n",
       "\n",
       "    .dataframe tbody tr th {\n",
       "        vertical-align: top;\n",
       "    }\n",
       "\n",
       "    .dataframe thead th {\n",
       "        text-align: right;\n",
       "    }\n",
       "</style>\n",
       "<table border=\"1\" class=\"dataframe\">\n",
       "  <thead>\n",
       "    <tr style=\"text-align: right;\">\n",
       "      <th></th>\n",
       "      <th>Sunlight_Hours</th>\n",
       "      <th>Temperature</th>\n",
       "      <th>Humidity</th>\n",
       "    </tr>\n",
       "  </thead>\n",
       "  <tbody>\n",
       "    <tr>\n",
       "      <th>count</th>\n",
       "      <td>193.000000</td>\n",
       "      <td>193.000000</td>\n",
       "      <td>193.000000</td>\n",
       "    </tr>\n",
       "    <tr>\n",
       "      <th>mean</th>\n",
       "      <td>6.826484</td>\n",
       "      <td>25.076087</td>\n",
       "      <td>58.098927</td>\n",
       "    </tr>\n",
       "    <tr>\n",
       "      <th>std</th>\n",
       "      <td>1.599509</td>\n",
       "      <td>5.354170</td>\n",
       "      <td>12.631799</td>\n",
       "    </tr>\n",
       "    <tr>\n",
       "      <th>min</th>\n",
       "      <td>4.033133</td>\n",
       "      <td>15.200000</td>\n",
       "      <td>30.567682</td>\n",
       "    </tr>\n",
       "    <tr>\n",
       "      <th>25%</th>\n",
       "      <td>5.477000</td>\n",
       "      <td>20.637095</td>\n",
       "      <td>49.300000</td>\n",
       "    </tr>\n",
       "    <tr>\n",
       "      <th>50%</th>\n",
       "      <td>6.833290</td>\n",
       "      <td>25.912336</td>\n",
       "      <td>59.182806</td>\n",
       "    </tr>\n",
       "    <tr>\n",
       "      <th>75%</th>\n",
       "      <td>8.241144</td>\n",
       "      <td>29.757938</td>\n",
       "      <td>69.100000</td>\n",
       "    </tr>\n",
       "    <tr>\n",
       "      <th>max</th>\n",
       "      <td>9.913903</td>\n",
       "      <td>34.810103</td>\n",
       "      <td>79.648240</td>\n",
       "    </tr>\n",
       "  </tbody>\n",
       "</table>\n",
       "</div>"
      ],
      "text/plain": [
       "       Sunlight_Hours  Temperature    Humidity\n",
       "count      193.000000   193.000000  193.000000\n",
       "mean         6.826484    25.076087   58.098927\n",
       "std          1.599509     5.354170   12.631799\n",
       "min          4.033133    15.200000   30.567682\n",
       "25%          5.477000    20.637095   49.300000\n",
       "50%          6.833290    25.912336   59.182806\n",
       "75%          8.241144    29.757938   69.100000\n",
       "max          9.913903    34.810103   79.648240"
      ]
     },
     "execution_count": 13,
     "metadata": {},
     "output_type": "execute_result"
    }
   ],
   "source": [
    "# Basic descriptive : Numerical features\n",
    "\n",
    "PlantGrowth_Dataset[NumericalFeatures].describe()"
   ]
  },
  {
   "cell_type": "code",
   "execution_count": 14,
   "id": "7f3e036a",
   "metadata": {},
   "outputs": [
    {
     "data": {
      "text/html": [
       "<div>\n",
       "<style scoped>\n",
       "    .dataframe tbody tr th:only-of-type {\n",
       "        vertical-align: middle;\n",
       "    }\n",
       "\n",
       "    .dataframe tbody tr th {\n",
       "        vertical-align: top;\n",
       "    }\n",
       "\n",
       "    .dataframe thead th {\n",
       "        text-align: right;\n",
       "    }\n",
       "</style>\n",
       "<table border=\"1\" class=\"dataframe\">\n",
       "  <thead>\n",
       "    <tr style=\"text-align: right;\">\n",
       "      <th></th>\n",
       "      <th>Soil_Type</th>\n",
       "      <th>Water_Frequency</th>\n",
       "      <th>Fertilizer_Type</th>\n",
       "    </tr>\n",
       "  </thead>\n",
       "  <tbody>\n",
       "    <tr>\n",
       "      <th>count</th>\n",
       "      <td>193</td>\n",
       "      <td>193</td>\n",
       "      <td>193</td>\n",
       "    </tr>\n",
       "    <tr>\n",
       "      <th>unique</th>\n",
       "      <td>3</td>\n",
       "      <td>3</td>\n",
       "      <td>3</td>\n",
       "    </tr>\n",
       "    <tr>\n",
       "      <th>top</th>\n",
       "      <td>clay</td>\n",
       "      <td>daily</td>\n",
       "      <td>none</td>\n",
       "    </tr>\n",
       "    <tr>\n",
       "      <th>freq</th>\n",
       "      <td>67</td>\n",
       "      <td>74</td>\n",
       "      <td>74</td>\n",
       "    </tr>\n",
       "  </tbody>\n",
       "</table>\n",
       "</div>"
      ],
      "text/plain": [
       "       Soil_Type Water_Frequency Fertilizer_Type\n",
       "count        193             193             193\n",
       "unique         3               3               3\n",
       "top         clay           daily            none\n",
       "freq          67              74              74"
      ]
     },
     "execution_count": 14,
     "metadata": {},
     "output_type": "execute_result"
    }
   ],
   "source": [
    "# Basic descriptive : Categorical features\n",
    "\n",
    "PlantGrowth_Dataset[CategoricalFeatures].describe()"
   ]
  },
  {
   "cell_type": "markdown",
   "id": "6032be99",
   "metadata": {},
   "source": [
    "# Distribution of Features"
   ]
  },
  {
   "cell_type": "markdown",
   "id": "592c97f4",
   "metadata": {},
   "source": [
    "## Numerical Features"
   ]
  },
  {
   "cell_type": "code",
   "execution_count": null,
   "id": "f315dd9d",
   "metadata": {},
   "outputs": [
    {
     "data": {
      "image/png": "[encoded data removed]",
      "text/plain": [
       "<Figure size 800x600 with 3 Axes>"
      ]
     },
     "metadata": {},
     "output_type": "display_data"
    }
   ],
   "source": [
    "mosaic_grid = \"1122\\n.33.\"\n",
    "fig , axes = plt.subplot_mosaic(mosaic_grid,figsize=(8,6),layout='tight')\n",
    "\n",
    "for index_axes , numerical_feature in enumerate(NumericalFeatures,1):\n",
    "    axes_plot = axes[str(index_axes)]\n",
    "    sns.boxplot(PlantGrowth_Dataset,x=numerical_feature,hue=Target,palette=['lightgreen','green'],ax=axes_plot,legend=False)\n",
    "    axes_plot.set_xlabel(re.sub(r'_',' ',numerical_feature))\n",
    "\n",
    "fig.suptitle('Distribution of Numerical Features')\n",
    "fig.legend(title='Growth Milestone',labels=['No Milestone','Milestone'],loc=(0.05,0.35));"
   ]
  },
  {
   "cell_type": "markdown",
   "id": "b948b47b",
   "metadata": {},
   "source": [
    "## Categorical Features"
   ]
  },
  {
   "cell_type": "code",
   "execution_count": 91,
   "id": "35007cf2",
   "metadata": {},
   "outputs": [
    {
     "data": {
      "image/png": "[encoded data removed]",
      "text/plain": [
       "<Figure size 800x600 with 3 Axes>"
      ]
     },
     "metadata": {},
     "output_type": "display_data"
    }
   ],
   "source": [
    "mosaic_grid = \"1122\\n.33.\"\n",
    "fig , axes = plt.subplot_mosaic(mosaic_grid,figsize=(8,6),layout='tight')\n",
    "\n",
    "for index_axes , categorical_feature in enumerate(CategoricalFeatures,1):\n",
    "    axes_plot = axes[str(index_axes)]\n",
    "    sns.countplot(PlantGrowth_Dataset,x=categorical_feature,hue=Target,stat='proportion',palette=['lightgreen','green'],ax=axes_plot,legend=False)\n",
    "    axes_plot.set_xlabel(re.sub(r'_',' ',categorical_feature))\n",
    "\n",
    "fig.suptitle('Distribution of Categorical Features')\n",
    "fig.legend(title='Growth Milestone',labels=['No Milestone','Milestone'],loc=(0.05,0.35));"
   ]
  }
 ],
 "metadata": {
  "kernelspec": {
   "display_name": "Python 3",
   "language": "python",
   "name": "python3"
  },
  "language_info": {
   "codemirror_mode": {
    "name": "ipython",
    "version": 3
   },
   "file_extension": ".py",
   "mimetype": "text/x-python",
   "name": "python",
   "nbconvert_exporter": "python",
   "pygments_lexer": "ipython3",
   "version": "3.12.5"
  }
 },
 "nbformat": 4,
 "nbformat_minor": 5
}
