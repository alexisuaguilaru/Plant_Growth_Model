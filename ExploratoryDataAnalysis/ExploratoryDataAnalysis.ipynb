{
 "cells": [
  {
   "cell_type": "markdown",
   "id": "ffa4de67",
   "metadata": {},
   "source": [
    "# Introduction"
   ]
  },
  {
   "cell_type": "markdown",
   "id": "d8b137f6",
   "metadata": {},
   "source": [
    "La siguiente libreta contiene los procedimientos y comentarios para el Exploratory Data Analysis (EDA) cuyo fin es el de obtener insights referentes a la distribución de los atributos y encontrar posibles patrones relevantes para la predicción. \n",
    "\n",
    "First, a basic exploration of the data is performed to determine whether it is necessary to perform a Data Wrangling to homogenize the data types in each feature and target, and also to describe the data using basic descriptive statistics in order to begin to understand the data available and possible complications for learning the model. The above is exposed in the section [First Exploration](#2-first-exploration), being the most relevant that the number of instances are balanced with respect to the target (``Growth_Milestone``)."
   ]
  },
  {
   "cell_type": "markdown",
   "id": "9cf03ab0",
   "metadata": {},
   "source": [
    "# 0. Import Libraries and Other Code"
   ]
  },
  {
   "cell_type": "code",
   "execution_count": 2,
   "id": "9aba8c7b",
   "metadata": {},
   "outputs": [],
   "source": [
    "# Relevant Libraries\n",
    "\n",
    "import pandas as pd\n",
    "import numpy as np\n",
    "\n",
    "import seaborn as sns\n",
    "import matplotlib.pyplot as plt\n",
    "from matplotlib.colors import LinearSegmentedColormap\n",
    "\n",
    "import re\n",
    "\n",
    "from typing import Callable , Any"
   ]
  },
  {
   "cell_type": "code",
   "execution_count": 3,
   "id": "8497785f",
   "metadata": {},
   "outputs": [],
   "source": [
    "# Defining custom color palette and maps\n",
    "\n",
    "Color_Palette = ['lightgreen','darkgreen']\n",
    "Color_Map = LinearSegmentedColormap.from_list(\"Color_Map\",Color_Palette,N=20)"
   ]
  },
  {
   "cell_type": "code",
   "execution_count": 4,
   "id": "682cc6a3",
   "metadata": {},
   "outputs": [],
   "source": [
    "def GetFeatureName(Feature:str) -> str:\n",
    "    \"\"\"\n",
    "        Function for getting feature's name \n",
    "        of a feature\n",
    "    \"\"\"\n",
    "    return re.sub(r'_',' ',Feature)"
   ]
  },
  {
   "cell_type": "code",
   "execution_count": 5,
   "id": "48de8aee",
   "metadata": {},
   "outputs": [],
   "source": [
    "def PlotDistributionsByTarget(Dataset:pd.DataFrame,Features:list[str],Target:str,TypePlot:Callable,FeatureTypeName:str,AdditionalPlotArgs:dict={}) -> None:\n",
    "    \"\"\"\n",
    "        Function for plotting distribution of features \n",
    "        by value of target\n",
    "    \"\"\"\n",
    "    mosaic_grid = \"1122\\n.33.\"\n",
    "    fig , axes = plt.subplot_mosaic(mosaic_grid,figsize=(8,6),layout='tight')\n",
    "\n",
    "    for index_axes , feature in enumerate(Features,1):\n",
    "        axes_plot = axes[str(index_axes)]\n",
    "        TypePlot(Dataset,x=feature,hue=Target,palette=Color_Palette,ax=axes_plot,legend=False,**AdditionalPlotArgs)\n",
    "        axes_plot.set_xlabel(GetFeatureName(feature))\n",
    "\n",
    "    fig.suptitle(f'Distribution of {FeatureTypeName} Features')\n",
    "    fig.legend(title='Growth Milestone',labels=['No Milestone','Milestone'],loc=(0.05,0.35))"
   ]
  },
  {
   "cell_type": "code",
   "execution_count": 6,
   "id": "98223e85",
   "metadata": {},
   "outputs": [],
   "source": [
    "def PlotCorelationMatrixByValueTarget(Dataset:pd.DataFrame,NumericalFeatures:list[str],Target:str,ValueTarget:Any,MeaningValue:str) -> None:\n",
    "    \"\"\"\n",
    "        Function for plotting correlation between \n",
    "        features\n",
    "    \"\"\"\n",
    "    fig , axes = plt.subplots()\n",
    "\n",
    "    correlation_matrix = Dataset.query(f\"{Target} == @ValueTarget\")[NumericalFeatures].corr()\n",
    "    sns.heatmap(correlation_matrix,vmin=-1,vmax=1,annot=True,cmap=Color_Map,ax=axes)\n",
    "\n",
    "    fig.suptitle(' '.join([MeaningValue,GetFeatureName(Target)]))"
   ]
  },
  {
   "cell_type": "markdown",
   "id": "eb17e5c7",
   "metadata": {},
   "source": [
    "# 1. Load Dataset "
   ]
  },
  {
   "cell_type": "code",
   "execution_count": 7,
   "id": "35622787",
   "metadata": {},
   "outputs": [
    {
     "name": "stdout",
     "output_type": "stream",
     "text": [
      "Dataset shape is: (193, 7)\n"
     ]
    },
    {
     "data": {
      "text/html": [
       "<div>\n",
       "<style scoped>\n",
       "    .dataframe tbody tr th:only-of-type {\n",
       "        vertical-align: middle;\n",
       "    }\n",
       "\n",
       "    .dataframe tbody tr th {\n",
       "        vertical-align: top;\n",
       "    }\n",
       "\n",
       "    .dataframe thead th {\n",
       "        text-align: right;\n",
       "    }\n",
       "</style>\n",
       "<table border=\"1\" class=\"dataframe\">\n",
       "  <thead>\n",
       "    <tr style=\"text-align: right;\">\n",
       "      <th></th>\n",
       "      <th>Soil_Type</th>\n",
       "      <th>Sunlight_Hours</th>\n",
       "      <th>Water_Frequency</th>\n",
       "      <th>Fertilizer_Type</th>\n",
       "      <th>Temperature</th>\n",
       "      <th>Humidity</th>\n",
       "      <th>Growth_Milestone</th>\n",
       "    </tr>\n",
       "  </thead>\n",
       "  <tbody>\n",
       "    <tr>\n",
       "      <th>0</th>\n",
       "      <td>loam</td>\n",
       "      <td>5.192294</td>\n",
       "      <td>bi-weekly</td>\n",
       "      <td>chemical</td>\n",
       "      <td>31.719602</td>\n",
       "      <td>61.591861</td>\n",
       "      <td>0</td>\n",
       "    </tr>\n",
       "    <tr>\n",
       "      <th>1</th>\n",
       "      <td>sandy</td>\n",
       "      <td>4.033133</td>\n",
       "      <td>weekly</td>\n",
       "      <td>organic</td>\n",
       "      <td>28.919484</td>\n",
       "      <td>52.422276</td>\n",
       "      <td>1</td>\n",
       "    </tr>\n",
       "    <tr>\n",
       "      <th>2</th>\n",
       "      <td>loam</td>\n",
       "      <td>8.892769</td>\n",
       "      <td>bi-weekly</td>\n",
       "      <td>none</td>\n",
       "      <td>23.179059</td>\n",
       "      <td>44.660539</td>\n",
       "      <td>0</td>\n",
       "    </tr>\n",
       "    <tr>\n",
       "      <th>3</th>\n",
       "      <td>loam</td>\n",
       "      <td>8.241144</td>\n",
       "      <td>bi-weekly</td>\n",
       "      <td>none</td>\n",
       "      <td>18.465886</td>\n",
       "      <td>46.433227</td>\n",
       "      <td>0</td>\n",
       "    </tr>\n",
       "    <tr>\n",
       "      <th>4</th>\n",
       "      <td>sandy</td>\n",
       "      <td>8.374043</td>\n",
       "      <td>bi-weekly</td>\n",
       "      <td>organic</td>\n",
       "      <td>18.128741</td>\n",
       "      <td>63.625923</td>\n",
       "      <td>0</td>\n",
       "    </tr>\n",
       "  </tbody>\n",
       "</table>\n",
       "</div>"
      ],
      "text/plain": [
       "  Soil_Type  Sunlight_Hours Water_Frequency Fertilizer_Type  Temperature  \\\n",
       "0      loam        5.192294       bi-weekly        chemical    31.719602   \n",
       "1     sandy        4.033133          weekly         organic    28.919484   \n",
       "2      loam        8.892769       bi-weekly            none    23.179059   \n",
       "3      loam        8.241144       bi-weekly            none    18.465886   \n",
       "4     sandy        8.374043       bi-weekly         organic    18.128741   \n",
       "\n",
       "    Humidity  Growth_Milestone  \n",
       "0  61.591861                 0  \n",
       "1  52.422276                 1  \n",
       "2  44.660539                 0  \n",
       "3  46.433227                 0  \n",
       "4  63.625923                 0  "
      ]
     },
     "execution_count": 7,
     "metadata": {},
     "output_type": "execute_result"
    }
   ],
   "source": [
    "# Loading dataset\n",
    "\n",
    "PlantGrowth_Dataset = pd.read_csv(\"plant_growth_data.csv\")\n",
    "\n",
    "print(f'Dataset shape is: {PlantGrowth_Dataset.shape}')\n",
    "\n",
    "# Example of records\n",
    "PlantGrowth_Dataset.head(5)"
   ]
  },
  {
   "cell_type": "markdown",
   "id": "2f6346f6",
   "metadata": {},
   "source": [
    "# 2. First Exploration"
   ]
  },
  {
   "cell_type": "markdown",
   "id": "35689d05",
   "metadata": {},
   "source": [
    "The different features and targets have the expected data types from the dataset description in [[1]](#references) so it is not necessary to reformat them, likewise there are no missing values in any of the attributes.\n",
    "\n",
    "The three numerical attributes follow different ranges of values, so the values have to be standardized to make a comparison between them. Therefore, it is necessary to standardize the values in order to make a comparison between them. In doing so, they follow different distributions using only the quartiles, so it could be expected that these attributes come from different phenomena or interactions. The ``Sunlight_Hours`` attribute appears to follow a more normal distribution, because its median $Q_2$ is almost $0$ while its quartiles $Q_1$ and $Q_3$ are almost the same except for the sign. About the ``Humidity`` attribute, its median $Q_2$ is not so close to $0$ but instead is equidistant to its other quartiles, so it is unskewed. While the ``Temperature`` attribute tends to have a negative skewness, so temperatures will tend to be higher with respect to the mean.\n",
    "\n",
    "Each categorical attribute has three unique values. The ``Soil_Type`` attribute has its three balanced values, that is, they have the same number of instances per value, so the model will have enough different instances to distinguish between possible cases. For the attributes ``Water_Frequency`` and ``Fertilizer_Type`` an imbalance in the instances per value can be observed, this could be related to the fact that possibly not enough experiments were generated with the values of these attributes to cover the different possibilities.\n",
    "\n",
    "There are the same number of instances for both classes of the target (``Growth_Milestone``), so the learning of the model will be able to capture, to some extent, the relevant relationships to distinguish between classes, this a priori. The latter could be false due to the unbalance of categorical attributes, unless they follow a noticeable pattern according to the class of ``Growth_Milestone``."
   ]
  },
  {
   "cell_type": "code",
   "execution_count": 8,
   "id": "249ecc88",
   "metadata": {},
   "outputs": [
    {
     "data": {
      "text/plain": [
       "Soil_Type            object\n",
       "Sunlight_Hours      float64\n",
       "Water_Frequency      object\n",
       "Fertilizer_Type      object\n",
       "Temperature         float64\n",
       "Humidity            float64\n",
       "Growth_Milestone      int64\n",
       "dtype: object"
      ]
     },
     "execution_count": 8,
     "metadata": {},
     "output_type": "execute_result"
    }
   ],
   "source": [
    "# Data types of variables\n",
    "\n",
    "PlantGrowth_Dataset.dtypes"
   ]
  },
  {
   "cell_type": "code",
   "execution_count": 9,
   "id": "e90fa361",
   "metadata": {},
   "outputs": [],
   "source": [
    "# Splitting variables into numerical and categorical\n",
    "\n",
    "labels_variables = PlantGrowth_Dataset.columns\n",
    "\n",
    "Features = labels_variables[:-1]\n",
    "Target = labels_variables[-1]\n",
    "\n",
    "NumericalFeatures , CategoricalFeatures = [] , []\n",
    "for feature in Features:\n",
    "    if PlantGrowth_Dataset[feature].dtype == 'object':\n",
    "        CategoricalFeatures.append(feature)\n",
    "    else:\n",
    "        NumericalFeatures.append(feature)"
   ]
  },
  {
   "cell_type": "code",
   "execution_count": 10,
   "id": "873fadd5",
   "metadata": {},
   "outputs": [
    {
     "data": {
      "text/html": [
       "<div>\n",
       "<style scoped>\n",
       "    .dataframe tbody tr th:only-of-type {\n",
       "        vertical-align: middle;\n",
       "    }\n",
       "\n",
       "    .dataframe tbody tr th {\n",
       "        vertical-align: top;\n",
       "    }\n",
       "\n",
       "    .dataframe thead th {\n",
       "        text-align: right;\n",
       "    }\n",
       "</style>\n",
       "<table border=\"1\" class=\"dataframe\">\n",
       "  <thead>\n",
       "    <tr style=\"text-align: right;\">\n",
       "      <th></th>\n",
       "      <th>Sunlight_Hours</th>\n",
       "      <th>Temperature</th>\n",
       "      <th>Humidity</th>\n",
       "    </tr>\n",
       "  </thead>\n",
       "  <tbody>\n",
       "    <tr>\n",
       "      <th>count</th>\n",
       "      <td>193.000000</td>\n",
       "      <td>193.000000</td>\n",
       "      <td>193.000000</td>\n",
       "    </tr>\n",
       "    <tr>\n",
       "      <th>mean</th>\n",
       "      <td>6.826484</td>\n",
       "      <td>25.076087</td>\n",
       "      <td>58.098927</td>\n",
       "    </tr>\n",
       "    <tr>\n",
       "      <th>std</th>\n",
       "      <td>1.599509</td>\n",
       "      <td>5.354170</td>\n",
       "      <td>12.631799</td>\n",
       "    </tr>\n",
       "    <tr>\n",
       "      <th>min</th>\n",
       "      <td>4.033133</td>\n",
       "      <td>15.200000</td>\n",
       "      <td>30.567682</td>\n",
       "    </tr>\n",
       "    <tr>\n",
       "      <th>25%</th>\n",
       "      <td>5.477000</td>\n",
       "      <td>20.637095</td>\n",
       "      <td>49.300000</td>\n",
       "    </tr>\n",
       "    <tr>\n",
       "      <th>50%</th>\n",
       "      <td>6.833290</td>\n",
       "      <td>25.912336</td>\n",
       "      <td>59.182806</td>\n",
       "    </tr>\n",
       "    <tr>\n",
       "      <th>75%</th>\n",
       "      <td>8.241144</td>\n",
       "      <td>29.757938</td>\n",
       "      <td>69.100000</td>\n",
       "    </tr>\n",
       "    <tr>\n",
       "      <th>max</th>\n",
       "      <td>9.913903</td>\n",
       "      <td>34.810103</td>\n",
       "      <td>79.648240</td>\n",
       "    </tr>\n",
       "  </tbody>\n",
       "</table>\n",
       "</div>"
      ],
      "text/plain": [
       "       Sunlight_Hours  Temperature    Humidity\n",
       "count      193.000000   193.000000  193.000000\n",
       "mean         6.826484    25.076087   58.098927\n",
       "std          1.599509     5.354170   12.631799\n",
       "min          4.033133    15.200000   30.567682\n",
       "25%          5.477000    20.637095   49.300000\n",
       "50%          6.833290    25.912336   59.182806\n",
       "75%          8.241144    29.757938   69.100000\n",
       "max          9.913903    34.810103   79.648240"
      ]
     },
     "execution_count": 10,
     "metadata": {},
     "output_type": "execute_result"
    }
   ],
   "source": [
    "# Basic descriptive : Numerical features\n",
    "\n",
    "PlantGrowth_Dataset[NumericalFeatures].describe()"
   ]
  },
  {
   "cell_type": "code",
   "execution_count": null,
   "id": "c46e6bc3",
   "metadata": {},
   "outputs": [
    {
     "data": {
      "text/html": [
       "<div>\n",
       "<style scoped>\n",
       "    .dataframe tbody tr th:only-of-type {\n",
       "        vertical-align: middle;\n",
       "    }\n",
       "\n",
       "    .dataframe tbody tr th {\n",
       "        vertical-align: top;\n",
       "    }\n",
       "\n",
       "    .dataframe thead th {\n",
       "        text-align: right;\n",
       "    }\n",
       "</style>\n",
       "<table border=\"1\" class=\"dataframe\">\n",
       "  <thead>\n",
       "    <tr style=\"text-align: right;\">\n",
       "      <th></th>\n",
       "      <th>Sunlight_Hours</th>\n",
       "      <th>Temperature</th>\n",
       "      <th>Humidity</th>\n",
       "    </tr>\n",
       "  </thead>\n",
       "  <tbody>\n",
       "    <tr>\n",
       "      <th>count</th>\n",
       "      <td>1.930000e+02</td>\n",
       "      <td>1.930000e+02</td>\n",
       "      <td>1.930000e+02</td>\n",
       "    </tr>\n",
       "    <tr>\n",
       "      <th>mean</th>\n",
       "      <td>1.472627e-16</td>\n",
       "      <td>-4.279823e-16</td>\n",
       "      <td>8.283529e-17</td>\n",
       "    </tr>\n",
       "    <tr>\n",
       "      <th>std</th>\n",
       "      <td>1.002601e+00</td>\n",
       "      <td>1.002601e+00</td>\n",
       "      <td>1.002601e+00</td>\n",
       "    </tr>\n",
       "    <tr>\n",
       "      <th>min</th>\n",
       "      <td>-1.750923e+00</td>\n",
       "      <td>-1.849357e+00</td>\n",
       "      <td>-2.185187e+00</td>\n",
       "    </tr>\n",
       "    <tr>\n",
       "      <th>25%</th>\n",
       "      <td>-8.458811e-01</td>\n",
       "      <td>-8.312280e-01</td>\n",
       "      <td>-6.983812e-01</td>\n",
       "    </tr>\n",
       "    <tr>\n",
       "      <th>50%</th>\n",
       "      <td>4.265630e-03</td>\n",
       "      <td>1.565927e-01</td>\n",
       "      <td>8.602874e-02</td>\n",
       "    </tr>\n",
       "    <tr>\n",
       "      <th>75%</th>\n",
       "      <td>8.867342e-01</td>\n",
       "      <td>8.767051e-01</td>\n",
       "      <td>8.731682e-01</td>\n",
       "    </tr>\n",
       "    <tr>\n",
       "      <th>max</th>\n",
       "      <td>1.935250e+00</td>\n",
       "      <td>1.822754e+00</td>\n",
       "      <td>1.710394e+00</td>\n",
       "    </tr>\n",
       "  </tbody>\n",
       "</table>\n",
       "</div>"
      ],
      "text/plain": [
       "       Sunlight_Hours   Temperature      Humidity\n",
       "count    1.930000e+02  1.930000e+02  1.930000e+02\n",
       "mean     1.472627e-16 -4.279823e-16  8.283529e-17\n",
       "std      1.002601e+00  1.002601e+00  1.002601e+00\n",
       "min     -1.750923e+00 -1.849357e+00 -2.185187e+00\n",
       "25%     -8.458811e-01 -8.312280e-01 -6.983812e-01\n",
       "50%      4.265630e-03  1.565927e-01  8.602874e-02\n",
       "75%      8.867342e-01  8.767051e-01  8.731682e-01\n",
       "max      1.935250e+00  1.822754e+00  1.710394e+00"
      ]
     },
     "execution_count": 18,
     "metadata": {},
     "output_type": "execute_result"
    }
   ],
   "source": [
    "# Basic descriptive : Numerical features -- Standardization\n",
    "\n",
    "PlantGrowth_Dataset[NumericalFeatures].apply(lambda values : (values - np.mean(values))/np.std(values),axis=0).describe()"
   ]
  },
  {
   "cell_type": "code",
   "execution_count": 30,
   "id": "f17f7806",
   "metadata": {},
   "outputs": [
    {
     "data": {
      "text/html": [
       "<div>\n",
       "<style scoped>\n",
       "    .dataframe tbody tr th:only-of-type {\n",
       "        vertical-align: middle;\n",
       "    }\n",
       "\n",
       "    .dataframe tbody tr th {\n",
       "        vertical-align: top;\n",
       "    }\n",
       "\n",
       "    .dataframe thead th {\n",
       "        text-align: right;\n",
       "    }\n",
       "</style>\n",
       "<table border=\"1\" class=\"dataframe\">\n",
       "  <thead>\n",
       "    <tr style=\"text-align: right;\">\n",
       "      <th></th>\n",
       "      <th>Soil_Type</th>\n",
       "      <th>Water_Frequency</th>\n",
       "      <th>Fertilizer_Type</th>\n",
       "    </tr>\n",
       "  </thead>\n",
       "  <tbody>\n",
       "    <tr>\n",
       "      <th>count</th>\n",
       "      <td>193</td>\n",
       "      <td>193</td>\n",
       "      <td>193</td>\n",
       "    </tr>\n",
       "    <tr>\n",
       "      <th>unique</th>\n",
       "      <td>3</td>\n",
       "      <td>3</td>\n",
       "      <td>3</td>\n",
       "    </tr>\n",
       "    <tr>\n",
       "      <th>top</th>\n",
       "      <td>clay</td>\n",
       "      <td>daily</td>\n",
       "      <td>none</td>\n",
       "    </tr>\n",
       "    <tr>\n",
       "      <th>freq</th>\n",
       "      <td>67</td>\n",
       "      <td>74</td>\n",
       "      <td>74</td>\n",
       "    </tr>\n",
       "  </tbody>\n",
       "</table>\n",
       "</div>"
      ],
      "text/plain": [
       "       Soil_Type Water_Frequency Fertilizer_Type\n",
       "count        193             193             193\n",
       "unique         3               3               3\n",
       "top         clay           daily            none\n",
       "freq          67              74              74"
      ]
     },
     "execution_count": 30,
     "metadata": {},
     "output_type": "execute_result"
    }
   ],
   "source": [
    "# Basic descriptive : Categorical features\n",
    "\n",
    "PlantGrowth_Dataset[CategoricalFeatures].describe()"
   ]
  },
  {
   "cell_type": "code",
   "execution_count": 29,
   "id": "7f3e036a",
   "metadata": {},
   "outputs": [
    {
     "data": {
      "text/plain": [
       "Soil_Type\n",
       "clay     67\n",
       "sandy    64\n",
       "loam     62\n",
       "Name: count, dtype: int64"
      ]
     },
     "execution_count": 29,
     "metadata": {},
     "output_type": "execute_result"
    }
   ],
   "source": [
    "# Basic descriptive : Categorical features -- Soil_Type\n",
    "\n",
    "PlantGrowth_Dataset[CategoricalFeatures[0]].value_counts()"
   ]
  },
  {
   "cell_type": "code",
   "execution_count": null,
   "id": "3d104298",
   "metadata": {},
   "outputs": [
    {
     "data": {
      "text/plain": [
       "Water_Frequency\n",
       "daily        74\n",
       "bi-weekly    60\n",
       "weekly       59\n",
       "Name: count, dtype: int64"
      ]
     },
     "execution_count": 24,
     "metadata": {},
     "output_type": "execute_result"
    }
   ],
   "source": [
    "# Basic descriptive : Categorical features -- Water_Frequency\n",
    "\n",
    "PlantGrowth_Dataset[CategoricalFeatures[1]].value_counts()"
   ]
  },
  {
   "cell_type": "code",
   "execution_count": null,
   "id": "0c2a05eb",
   "metadata": {},
   "outputs": [
    {
     "data": {
      "text/plain": [
       "Fertilizer_Type\n",
       "none        74\n",
       "chemical    65\n",
       "organic     54\n",
       "Name: count, dtype: int64"
      ]
     },
     "execution_count": 25,
     "metadata": {},
     "output_type": "execute_result"
    }
   ],
   "source": [
    "# Basic descriptive : Categorical features -- Fertilizer_Type\n",
    "\n",
    "PlantGrowth_Dataset[CategoricalFeatures[2]].value_counts()"
   ]
  },
  {
   "cell_type": "code",
   "execution_count": 13,
   "id": "1ce31e8b",
   "metadata": {},
   "outputs": [
    {
     "data": {
      "text/plain": [
       "Growth_Milestone\n",
       "0    97\n",
       "1    96\n",
       "Name: count, dtype: int64"
      ]
     },
     "execution_count": 13,
     "metadata": {},
     "output_type": "execute_result"
    }
   ],
   "source": [
    "# Basic descriptive : Target\n",
    "\n",
    "PlantGrowth_Dataset[Target].value_counts()"
   ]
  },
  {
   "cell_type": "markdown",
   "id": "6032be99",
   "metadata": {},
   "source": [
    "# Distribution of Features"
   ]
  },
  {
   "cell_type": "markdown",
   "id": "3f2ab693",
   "metadata": {},
   "source": [
    "From the plots, it can be seen that the attributes follow different distributions, although there is some overlapping, making there a certain tendency (in the attributes) at the moment of evaluating whether there is significant growth.\n",
    "\n",
    "Noting that for significant growth to occur the hours of sunlight and humidity must be in an optimal range, in addition to fertilizer being used on the plant."
   ]
  },
  {
   "cell_type": "markdown",
   "id": "592c97f4",
   "metadata": {},
   "source": [
    "## Numerical Features"
   ]
  },
  {
   "cell_type": "code",
   "execution_count": 11,
   "id": "700a217c",
   "metadata": {},
   "outputs": [
    {
     "data": {
      "image/png": "[encoded data removed]",
      "text/plain": [
       "<Figure size 800x600 with 3 Axes>"
      ]
     },
     "metadata": {},
     "output_type": "display_data"
    }
   ],
   "source": [
    "PlotDistributionsByTarget(PlantGrowth_Dataset,NumericalFeatures,Target,sns.boxplot,'Numerical')"
   ]
  },
  {
   "cell_type": "markdown",
   "id": "b948b47b",
   "metadata": {},
   "source": [
    "## Categorical Features"
   ]
  },
  {
   "cell_type": "code",
   "execution_count": 12,
   "id": "423f0082",
   "metadata": {},
   "outputs": [
    {
     "data": {
      "image/png": "[encoded data removed]",
      "text/plain": [
       "<Figure size 800x600 with 3 Axes>"
      ]
     },
     "metadata": {},
     "output_type": "display_data"
    }
   ],
   "source": [
    "PlotDistributionsByTarget(PlantGrowth_Dataset,CategoricalFeatures,Target,sns.countplot,'Categorical',{'stat':'proportion'})"
   ]
  },
  {
   "cell_type": "markdown",
   "id": "b4ce0ebe",
   "metadata": {},
   "source": [
    "# Correlation of Numerical Features"
   ]
  },
  {
   "cell_type": "markdown",
   "id": "a60bf36b",
   "metadata": {},
   "source": [
    "The correlation matrices show the following trends in attributes:\n",
    "\n",
    "* No significant growth: Sunlight hours have a negative correlation with temperature and humidity. This could be related to how sunlight was used to compensate for low ambient temperatures or a very humid environment.\n",
    "\n",
    "* With significant growth: Temperatures have a positive correlation with humidity. This relates to optimal environments for some plants."
   ]
  },
  {
   "cell_type": "code",
   "execution_count": 13,
   "id": "a3b24a4b",
   "metadata": {},
   "outputs": [
    {
     "data": {
      "image/png": "[encoded data removed]",
      "text/plain": [
       "<Figure size 640x480 with 2 Axes>"
      ]
     },
     "metadata": {},
     "output_type": "display_data"
    }
   ],
   "source": [
    "PlotCorelationMatrixByValueTarget(PlantGrowth_Dataset,NumericalFeatures,'Growth_Milestone',0,'Without')"
   ]
  },
  {
   "cell_type": "code",
   "execution_count": 14,
   "id": "f054c0fc",
   "metadata": {},
   "outputs": [
    {
     "data": {
      "image/png": "[encoded data removed]",
      "text/plain": [
       "<Figure size 640x480 with 2 Axes>"
      ]
     },
     "metadata": {},
     "output_type": "display_data"
    }
   ],
   "source": [
    "PlotCorelationMatrixByValueTarget(PlantGrowth_Dataset,NumericalFeatures,'Growth_Milestone',1,'With')"
   ]
  },
  {
   "cell_type": "markdown",
   "id": "2fad89d0",
   "metadata": {},
   "source": [
    "# Hypothesis Testing"
   ]
  },
  {
   "cell_type": "markdown",
   "id": "de03b2dd",
   "metadata": {},
   "source": [
    "Se prueban algunas hipótesis con el fin de obtener insights extras sobre el dataset. Las hipótesis a probar son:\n",
    "\n",
    "1. Los atributos numéricos siguen diferentes distribuciones según la presencia de crecimiento significativo\n",
    "\n",
    "2. Los atributos categóricos son dependientes de la presencia de crecimiento significativo"
   ]
  },
  {
   "cell_type": "markdown",
   "id": "a3b3e085",
   "metadata": {},
   "source": [
    "## Hypothesis about Numerical Features"
   ]
  },
  {
   "cell_type": "code",
   "execution_count": null,
   "id": "5ef86276",
   "metadata": {},
   "outputs": [],
   "source": []
  },
  {
   "cell_type": "markdown",
   "id": "d7be65ac",
   "metadata": {},
   "source": [
    "## Hypothesis about Categorical Features"
   ]
  },
  {
   "cell_type": "code",
   "execution_count": null,
   "id": "18b13fe3",
   "metadata": {},
   "outputs": [],
   "source": []
  },
  {
   "cell_type": "markdown",
   "id": "2d1096f8",
   "metadata": {},
   "source": [
    "# References"
   ]
  },
  {
   "cell_type": "markdown",
   "id": "c6c96147",
   "metadata": {},
   "source": [
    "* [1] Plant Growth Data Classification. Kaggle, [gortorozyannnn](https://www.kaggle.com/gorororororo23). https://www.kaggle.com/datasets/gorororororo23/plant-growth-data-classification"
   ]
  }
 ],
 "metadata": {
  "kernelspec": {
   "display_name": "Python 3",
   "language": "python",
   "name": "python3"
  },
  "language_info": {
   "codemirror_mode": {
    "name": "ipython",
    "version": 3
   },
   "file_extension": ".py",
   "mimetype": "text/x-python",
   "name": "python",
   "nbconvert_exporter": "python",
   "pygments_lexer": "ipython3",
   "version": "3.12.5"
  }
 },
 "nbformat": 4,
 "nbformat_minor": 5
}
